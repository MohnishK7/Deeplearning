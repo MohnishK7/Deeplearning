{
  "nbformat": 4,
  "nbformat_minor": 0,
  "metadata": {
    "colab": {
      "provenance": [],
      "authorship_tag": "ABX9TyNnvkmopXclhvuxrQtV0yLm",
      "include_colab_link": true
    },
    "kernelspec": {
      "name": "python3",
      "display_name": "Python 3"
    },
    "language_info": {
      "name": "python"
    },
    "accelerator": "GPU",
    "gpuClass": "standard"
  },
  "cells": [
    {
      "cell_type": "markdown",
      "metadata": {
        "id": "view-in-github",
        "colab_type": "text"
      },
      "source": [
        "<a href=\"https://colab.research.google.com/github/MohnishK7/cv/blob/main/Basic_commands.ipynb\" target=\"_parent\"><img src=\"https://colab.research.google.com/assets/colab-badge.svg\" alt=\"Open In Colab\"/></a>"
      ]
    },
    {
      "cell_type": "code",
      "execution_count": null,
      "metadata": {
        "id": "S6-K6GqaL-TZ"
      },
      "outputs": [],
      "source": [
        "!pwd"
      ]
    },
    {
      "cell_type": "code",
      "source": [
        "cd .."
      ],
      "metadata": {
        "colab": {
          "base_uri": "https://localhost:8080/"
        },
        "id": "c4GV3KQNM5GW",
        "outputId": "19e9959c-e002-47cd-aeea-508ed867649d"
      },
      "execution_count": 5,
      "outputs": [
        {
          "output_type": "stream",
          "name": "stdout",
          "text": [
            "/content\n"
          ]
        }
      ]
    },
    {
      "cell_type": "code",
      "source": [
        "!ls"
      ],
      "metadata": {
        "id": "5G45L9KXMsti"
      },
      "execution_count": null,
      "outputs": []
    },
    {
      "cell_type": "code",
      "source": [
        "!git clone https://github.com/anujshah1003/own_data_cnn_implementation_keras.git"
      ],
      "metadata": {
        "id": "IKUvzlONNTme"
      },
      "execution_count": null,
      "outputs": []
    },
    {
      "cell_type": "code",
      "source": [
        "!pwd"
      ],
      "metadata": {
        "colab": {
          "base_uri": "https://localhost:8080/"
        },
        "id": "AOpPwj76OyRm",
        "outputId": "e1b74469-42f3-4013-efd0-e97033dfe7f2"
      },
      "execution_count": 8,
      "outputs": [
        {
          "output_type": "stream",
          "name": "stdout",
          "text": [
            "/content\n"
          ]
        }
      ]
    },
    {
      "cell_type": "code",
      "source": [
        "cd /content/own_data_cnn_implementation_keras/"
      ],
      "metadata": {
        "colab": {
          "base_uri": "https://localhost:8080/"
        },
        "id": "sOiOuA0FO1dq",
        "outputId": "d38e9def-f06b-4d75-a481-0a8f7ca63602"
      },
      "execution_count": 9,
      "outputs": [
        {
          "output_type": "stream",
          "name": "stdout",
          "text": [
            "/content/own_data_cnn_implementation_keras\n"
          ]
        }
      ]
    },
    {
      "cell_type": "code",
      "source": [
        "!ls"
      ],
      "metadata": {
        "colab": {
          "base_uri": "https://localhost:8080/"
        },
        "id": "g-A-ZZJxPATG",
        "outputId": "c7d23f67-f059-4787-a71d-164b61083b17"
      },
      "execution_count": 10,
      "outputs": [
        {
          "output_type": "stream",
          "name": "stdout",
          "text": [
            "_config.yml\t    data.zip   updated_custom_data_cnn.py\n",
            "custom_data_cnn.py  README.md\n"
          ]
        }
      ]
    },
    {
      "cell_type": "code",
      "source": [
        "!rm -rf custom_data_cnn.py updated_custom_data_cnn.py"
      ],
      "metadata": {
        "id": "Taml5w6rPCpK"
      },
      "execution_count": 11,
      "outputs": []
    },
    {
      "cell_type": "code",
      "source": [
        "!ls"
      ],
      "metadata": {
        "colab": {
          "base_uri": "https://localhost:8080/"
        },
        "id": "sXpdxtM_PRKI",
        "outputId": "903de504-d6c7-42fe-fce7-17cd8850e037"
      },
      "execution_count": 12,
      "outputs": [
        {
          "output_type": "stream",
          "name": "stdout",
          "text": [
            "_config.yml  data.zip  README.md\n"
          ]
        }
      ]
    },
    {
      "cell_type": "code",
      "source": [
        "!rm -rf _config.yml README.md"
      ],
      "metadata": {
        "id": "7jzc4CzIPUG_"
      },
      "execution_count": 13,
      "outputs": []
    },
    {
      "cell_type": "code",
      "source": [
        "!ls"
      ],
      "metadata": {
        "colab": {
          "base_uri": "https://localhost:8080/"
        },
        "id": "0R19YyCSPa9e",
        "outputId": "0d5cae03-5b24-4efb-f773-9a7c2698a497"
      },
      "execution_count": 14,
      "outputs": [
        {
          "output_type": "stream",
          "name": "stdout",
          "text": [
            "data.zip\n"
          ]
        }
      ]
    },
    {
      "cell_type": "code",
      "source": [
        "from zipfile import ZipFile\n",
        "file_name = \"data.zip\"\n",
        "\n",
        "#opening of the zip file in read mode\n",
        "\n",
        "with ZipFile(file_name, 'r') as zip:\n",
        "  print('Extraction of the file now...')\n",
        "  zip.extractall()\n",
        "  print('Done')"
      ],
      "metadata": {
        "colab": {
          "base_uri": "https://localhost:8080/"
        },
        "id": "Fk_44aoMPcF_",
        "outputId": "d1a54c3a-0361-4d01-8507-01fe4856ec80"
      },
      "execution_count": 15,
      "outputs": [
        {
          "output_type": "stream",
          "name": "stdout",
          "text": [
            "Extraction of the file now...\n",
            "Done\n"
          ]
        }
      ]
    },
    {
      "cell_type": "code",
      "source": [
        "!ls"
      ],
      "metadata": {
        "colab": {
          "base_uri": "https://localhost:8080/"
        },
        "id": "Z6FDx-ylQt1O",
        "outputId": "9c024281-e12b-463d-dae9-5a050312b866"
      },
      "execution_count": 16,
      "outputs": [
        {
          "output_type": "stream",
          "name": "stdout",
          "text": [
            "data  data.zip\n"
          ]
        }
      ]
    },
    {
      "cell_type": "code",
      "source": [
        "!rm -rf data.zip"
      ],
      "metadata": {
        "id": "nqn40hSjQ4BZ"
      },
      "execution_count": 17,
      "outputs": []
    },
    {
      "cell_type": "code",
      "source": [
        "!ls"
      ],
      "metadata": {
        "colab": {
          "base_uri": "https://localhost:8080/"
        },
        "id": "j1yPNejhRPNL",
        "outputId": "b9aaecb1-e7c0-4c85-99cb-967e96b3b95e"
      },
      "execution_count": 18,
      "outputs": [
        {
          "output_type": "stream",
          "name": "stdout",
          "text": [
            "data\n"
          ]
        }
      ]
    },
    {
      "cell_type": "code",
      "source": [
        "cd data/"
      ],
      "metadata": {
        "colab": {
          "base_uri": "https://localhost:8080/"
        },
        "id": "sQ4jDqqjRRfW",
        "outputId": "fb99c7fb-c3fa-42b1-90b8-c4ac8cfd861f"
      },
      "execution_count": 19,
      "outputs": [
        {
          "output_type": "stream",
          "name": "stdout",
          "text": [
            "/content/own_data_cnn_implementation_keras/data\n"
          ]
        }
      ]
    },
    {
      "cell_type": "code",
      "source": [
        "!ls"
      ],
      "metadata": {
        "colab": {
          "base_uri": "https://localhost:8080/"
        },
        "id": "Mpz16F8nRaKg",
        "outputId": "62d8108a-86c3-4ab1-9b70-9358bb24591c"
      },
      "execution_count": 20,
      "outputs": [
        {
          "output_type": "stream",
          "name": "stdout",
          "text": [
            "cats  dogs  horses  humans\n"
          ]
        }
      ]
    },
    {
      "cell_type": "code",
      "source": [
        "cd cats/"
      ],
      "metadata": {
        "colab": {
          "base_uri": "https://localhost:8080/"
        },
        "id": "h-03CBL8RbXx",
        "outputId": "7a5e66e6-1694-4d1c-92a2-8e89e19a858f"
      },
      "execution_count": 21,
      "outputs": [
        {
          "output_type": "stream",
          "name": "stdout",
          "text": [
            "/content/own_data_cnn_implementation_keras/data/cats\n"
          ]
        }
      ]
    },
    {
      "cell_type": "code",
      "source": [
        "!ls\n"
      ],
      "metadata": {
        "colab": {
          "base_uri": "https://localhost:8080/"
        },
        "id": "i-C12F7fRkUn",
        "outputId": "54bcdad8-7318-47fa-e383-b81408217fb1"
      },
      "execution_count": 22,
      "outputs": [
        {
          "output_type": "stream",
          "name": "stdout",
          "text": [
            "cat.100.jpg  cat.131.jpg  cat.162.jpg  cat.193.jpg  cat.40.jpg\tcat.71.jpg\n",
            "cat.101.jpg  cat.132.jpg  cat.163.jpg  cat.194.jpg  cat.41.jpg\tcat.72.jpg\n",
            "cat.102.jpg  cat.133.jpg  cat.164.jpg  cat.195.jpg  cat.42.jpg\tcat.73.jpg\n",
            "cat.103.jpg  cat.134.jpg  cat.165.jpg  cat.196.jpg  cat.43.jpg\tcat.74.jpg\n",
            "cat.104.jpg  cat.135.jpg  cat.166.jpg  cat.197.jpg  cat.44.jpg\tcat.75.jpg\n",
            "cat.105.jpg  cat.136.jpg  cat.167.jpg  cat.198.jpg  cat.45.jpg\tcat.76.jpg\n",
            "cat.106.jpg  cat.137.jpg  cat.168.jpg  cat.199.jpg  cat.46.jpg\tcat.77.jpg\n",
            "cat.107.jpg  cat.138.jpg  cat.169.jpg  cat.19.jpg   cat.47.jpg\tcat.78.jpg\n",
            "cat.108.jpg  cat.139.jpg  cat.16.jpg   cat.1.jpg    cat.48.jpg\tcat.79.jpg\n",
            "cat.109.jpg  cat.13.jpg   cat.170.jpg  cat.200.jpg  cat.49.jpg\tcat.7.jpg\n",
            "cat.10.jpg   cat.140.jpg  cat.171.jpg  cat.201.jpg  cat.4.jpg\tcat.80.jpg\n",
            "cat.110.jpg  cat.141.jpg  cat.172.jpg  cat.202.jpg  cat.50.jpg\tcat.81.jpg\n",
            "cat.111.jpg  cat.142.jpg  cat.173.jpg  cat.20.jpg   cat.51.jpg\tcat.82.jpg\n",
            "cat.112.jpg  cat.143.jpg  cat.174.jpg  cat.21.jpg   cat.52.jpg\tcat.83.jpg\n",
            "cat.113.jpg  cat.144.jpg  cat.175.jpg  cat.22.jpg   cat.53.jpg\tcat.84.jpg\n",
            "cat.114.jpg  cat.145.jpg  cat.176.jpg  cat.23.jpg   cat.54.jpg\tcat.85.jpg\n",
            "cat.115.jpg  cat.146.jpg  cat.177.jpg  cat.24.jpg   cat.55.jpg\tcat.86.jpg\n",
            "cat.116.jpg  cat.147.jpg  cat.178.jpg  cat.25.jpg   cat.56.jpg\tcat.87.jpg\n",
            "cat.117.jpg  cat.148.jpg  cat.179.jpg  cat.26.jpg   cat.57.jpg\tcat.88.jpg\n",
            "cat.118.jpg  cat.149.jpg  cat.17.jpg   cat.27.jpg   cat.58.jpg\tcat.89.jpg\n",
            "cat.119.jpg  cat.14.jpg   cat.180.jpg  cat.28.jpg   cat.59.jpg\tcat.8.jpg\n",
            "cat.11.jpg   cat.150.jpg  cat.181.jpg  cat.29.jpg   cat.5.jpg\tcat.90.jpg\n",
            "cat.120.jpg  cat.151.jpg  cat.182.jpg  cat.2.jpg    cat.60.jpg\tcat.91.jpg\n",
            "cat.121.jpg  cat.152.jpg  cat.183.jpg  cat.30.jpg   cat.61.jpg\tcat.92.jpg\n",
            "cat.122.jpg  cat.153.jpg  cat.184.jpg  cat.31.jpg   cat.62.jpg\tcat.93.jpg\n",
            "cat.123.jpg  cat.154.jpg  cat.185.jpg  cat.32.jpg   cat.63.jpg\tcat.94.jpg\n",
            "cat.124.jpg  cat.155.jpg  cat.186.jpg  cat.33.jpg   cat.64.jpg\tcat.95.jpg\n",
            "cat.125.jpg  cat.156.jpg  cat.187.jpg  cat.34.jpg   cat.65.jpg\tcat.96.jpg\n",
            "cat.126.jpg  cat.157.jpg  cat.188.jpg  cat.35.jpg   cat.66.jpg\tcat.97.jpg\n",
            "cat.127.jpg  cat.158.jpg  cat.189.jpg  cat.36.jpg   cat.67.jpg\tcat.98.jpg\n",
            "cat.128.jpg  cat.159.jpg  cat.18.jpg   cat.37.jpg   cat.68.jpg\tcat.99.jpg\n",
            "cat.129.jpg  cat.15.jpg   cat.190.jpg  cat.38.jpg   cat.69.jpg\tcat.9.jpg\n",
            "cat.12.jpg   cat.160.jpg  cat.191.jpg  cat.39.jpg   cat.6.jpg\n",
            "cat.130.jpg  cat.161.jpg  cat.192.jpg  cat.3.jpg    cat.70.jpg\n"
          ]
        }
      ]
    },
    {
      "cell_type": "code",
      "source": [
        "cd .."
      ],
      "metadata": {
        "colab": {
          "base_uri": "https://localhost:8080/"
        },
        "id": "L2GmxJMwRrPw",
        "outputId": "5965461b-6cd8-445f-fb3f-6c09804879a3"
      },
      "execution_count": 24,
      "outputs": [
        {
          "output_type": "stream",
          "name": "stdout",
          "text": [
            "/content/own_data_cnn_implementation_keras/data\n"
          ]
        }
      ]
    },
    {
      "cell_type": "code",
      "source": [
        "cd dogs/"
      ],
      "metadata": {
        "colab": {
          "base_uri": "https://localhost:8080/"
        },
        "id": "1Q4wJcRmRz-m",
        "outputId": "bc826e8b-87ab-4b0d-b453-a503dba32ba5"
      },
      "execution_count": 25,
      "outputs": [
        {
          "output_type": "stream",
          "name": "stdout",
          "text": [
            "/content/own_data_cnn_implementation_keras/data/dogs\n"
          ]
        }
      ]
    },
    {
      "cell_type": "code",
      "source": [
        "!ls"
      ],
      "metadata": {
        "colab": {
          "base_uri": "https://localhost:8080/"
        },
        "id": "cYsETxnpR1gq",
        "outputId": "089d7818-3acb-408e-ce5a-c269fb7f01b8"
      },
      "execution_count": 26,
      "outputs": [
        {
          "output_type": "stream",
          "name": "stdout",
          "text": [
            "dog.100.jpg  dog.131.jpg  dog.162.jpg  dog.193.jpg  dog.40.jpg\tdog.71.jpg\n",
            "dog.101.jpg  dog.132.jpg  dog.163.jpg  dog.194.jpg  dog.41.jpg\tdog.72.jpg\n",
            "dog.102.jpg  dog.133.jpg  dog.164.jpg  dog.195.jpg  dog.42.jpg\tdog.73.jpg\n",
            "dog.103.jpg  dog.134.jpg  dog.165.jpg  dog.196.jpg  dog.43.jpg\tdog.74.jpg\n",
            "dog.104.jpg  dog.135.jpg  dog.166.jpg  dog.197.jpg  dog.44.jpg\tdog.75.jpg\n",
            "dog.105.jpg  dog.136.jpg  dog.167.jpg  dog.198.jpg  dog.45.jpg\tdog.76.jpg\n",
            "dog.106.jpg  dog.137.jpg  dog.168.jpg  dog.199.jpg  dog.46.jpg\tdog.77.jpg\n",
            "dog.107.jpg  dog.138.jpg  dog.169.jpg  dog.19.jpg   dog.47.jpg\tdog.78.jpg\n",
            "dog.108.jpg  dog.139.jpg  dog.16.jpg   dog.1.jpg    dog.48.jpg\tdog.79.jpg\n",
            "dog.109.jpg  dog.13.jpg   dog.170.jpg  dog.200.jpg  dog.49.jpg\tdog.7.jpg\n",
            "dog.10.jpg   dog.140.jpg  dog.171.jpg  dog.201.jpg  dog.4.jpg\tdog.80.jpg\n",
            "dog.110.jpg  dog.141.jpg  dog.172.jpg  dog.202.jpg  dog.50.jpg\tdog.81.jpg\n",
            "dog.111.jpg  dog.142.jpg  dog.173.jpg  dog.20.jpg   dog.51.jpg\tdog.82.jpg\n",
            "dog.112.jpg  dog.143.jpg  dog.174.jpg  dog.21.jpg   dog.52.jpg\tdog.83.jpg\n",
            "dog.113.jpg  dog.144.jpg  dog.175.jpg  dog.22.jpg   dog.53.jpg\tdog.84.jpg\n",
            "dog.114.jpg  dog.145.jpg  dog.176.jpg  dog.23.jpg   dog.54.jpg\tdog.85.jpg\n",
            "dog.115.jpg  dog.146.jpg  dog.177.jpg  dog.24.jpg   dog.55.jpg\tdog.86.jpg\n",
            "dog.116.jpg  dog.147.jpg  dog.178.jpg  dog.25.jpg   dog.56.jpg\tdog.87.jpg\n",
            "dog.117.jpg  dog.148.jpg  dog.179.jpg  dog.26.jpg   dog.57.jpg\tdog.88.jpg\n",
            "dog.118.jpg  dog.149.jpg  dog.17.jpg   dog.27.jpg   dog.58.jpg\tdog.89.jpg\n",
            "dog.119.jpg  dog.14.jpg   dog.180.jpg  dog.28.jpg   dog.59.jpg\tdog.8.jpg\n",
            "dog.11.jpg   dog.150.jpg  dog.181.jpg  dog.29.jpg   dog.5.jpg\tdog.90.jpg\n",
            "dog.120.jpg  dog.151.jpg  dog.182.jpg  dog.2.jpg    dog.60.jpg\tdog.91.jpg\n",
            "dog.121.jpg  dog.152.jpg  dog.183.jpg  dog.30.jpg   dog.61.jpg\tdog.92.jpg\n",
            "dog.122.jpg  dog.153.jpg  dog.184.jpg  dog.31.jpg   dog.62.jpg\tdog.93.jpg\n",
            "dog.123.jpg  dog.154.jpg  dog.185.jpg  dog.32.jpg   dog.63.jpg\tdog.94.jpg\n",
            "dog.124.jpg  dog.155.jpg  dog.186.jpg  dog.33.jpg   dog.64.jpg\tdog.95.jpg\n",
            "dog.125.jpg  dog.156.jpg  dog.187.jpg  dog.34.jpg   dog.65.jpg\tdog.96.jpg\n",
            "dog.126.jpg  dog.157.jpg  dog.188.jpg  dog.35.jpg   dog.66.jpg\tdog.97.jpg\n",
            "dog.127.jpg  dog.158.jpg  dog.189.jpg  dog.36.jpg   dog.67.jpg\tdog.98.jpg\n",
            "dog.128.jpg  dog.159.jpg  dog.18.jpg   dog.37.jpg   dog.68.jpg\tdog.99.jpg\n",
            "dog.129.jpg  dog.15.jpg   dog.190.jpg  dog.38.jpg   dog.69.jpg\tdog.9.jpg\n",
            "dog.12.jpg   dog.160.jpg  dog.191.jpg  dog.39.jpg   dog.6.jpg\n",
            "dog.130.jpg  dog.161.jpg  dog.192.jpg  dog.3.jpg    dog.70.jpg\n"
          ]
        }
      ]
    },
    {
      "cell_type": "code",
      "source": [
        "cd ..\n"
      ],
      "metadata": {
        "colab": {
          "base_uri": "https://localhost:8080/"
        },
        "id": "RvIMSNzOR2Yq",
        "outputId": "2b1b4492-1577-4a71-bc6f-69e781601795"
      },
      "execution_count": 27,
      "outputs": [
        {
          "output_type": "stream",
          "name": "stdout",
          "text": [
            "/content/own_data_cnn_implementation_keras/data\n"
          ]
        }
      ]
    },
    {
      "cell_type": "code",
      "source": [
        "cd /"
      ],
      "metadata": {
        "colab": {
          "base_uri": "https://localhost:8080/"
        },
        "id": "3UPLtBDvSjZk",
        "outputId": "9cb15f02-81a1-4f64-e8e1-8543a152bba7"
      },
      "execution_count": 28,
      "outputs": [
        {
          "output_type": "stream",
          "name": "stdout",
          "text": [
            "/\n"
          ]
        }
      ]
    },
    {
      "cell_type": "code",
      "source": [
        "!ls\n"
      ],
      "metadata": {
        "colab": {
          "base_uri": "https://localhost:8080/"
        },
        "id": "rTXae6unSk0O",
        "outputId": "73611270-09d8-457b-a068-fa12ae03c81e"
      },
      "execution_count": 29,
      "outputs": [
        {
          "output_type": "stream",
          "name": "stdout",
          "text": [
            "bin\t dev   lib32   mnt\t\t\t python-apt  srv    usr\n",
            "boot\t etc   lib64   NGC-DL-CONTAINER-LICENSE  root\t     sys    var\n",
            "content  home  libx32  opt\t\t\t run\t     tmp\n",
            "datalab  lib   media   proc\t\t\t sbin\t     tools\n"
          ]
        }
      ]
    },
    {
      "cell_type": "code",
      "source": [
        "cd content/"
      ],
      "metadata": {
        "colab": {
          "base_uri": "https://localhost:8080/"
        },
        "id": "vhRL-DyISmHG",
        "outputId": "f6439f8f-0704-4e55-d88e-390b26c75d6b"
      },
      "execution_count": 30,
      "outputs": [
        {
          "output_type": "stream",
          "name": "stdout",
          "text": [
            "/content\n"
          ]
        }
      ]
    },
    {
      "cell_type": "code",
      "source": [
        "!ls\n"
      ],
      "metadata": {
        "colab": {
          "base_uri": "https://localhost:8080/"
        },
        "id": "z4Y5GhVuSoB2",
        "outputId": "94c9f115-5d8a-4ec2-cd6b-d6d6cc257960"
      },
      "execution_count": 31,
      "outputs": [
        {
          "output_type": "stream",
          "name": "stdout",
          "text": [
            "own_data_cnn_implementation_keras  sample_data\n"
          ]
        }
      ]
    },
    {
      "cell_type": "code",
      "source": [
        "cd sample_data/"
      ],
      "metadata": {
        "colab": {
          "base_uri": "https://localhost:8080/"
        },
        "id": "pAxEooRmSpjN",
        "outputId": "812f6e0c-2081-4feb-b111-b7ae1a956ca8"
      },
      "execution_count": 32,
      "outputs": [
        {
          "output_type": "stream",
          "name": "stdout",
          "text": [
            "/content/sample_data\n"
          ]
        }
      ]
    },
    {
      "cell_type": "code",
      "source": [
        "!ls\n"
      ],
      "metadata": {
        "colab": {
          "base_uri": "https://localhost:8080/"
        },
        "id": "0mOkTnf-S6Hu",
        "outputId": "da3d1741-2b86-473d-8b30-6574bca1d7b5"
      },
      "execution_count": 33,
      "outputs": [
        {
          "output_type": "stream",
          "name": "stdout",
          "text": [
            "anscombe.json\t\t      mnist_test.csv\t\t\t README.md\n",
            "california_housing_test.csv   mnist_train_small.csv\n",
            "california_housing_train.csv  own_data_cnn_implementation_keras\n"
          ]
        }
      ]
    },
    {
      "cell_type": "code",
      "source": [
        "!rm -rf own_data_cnn_implementation_keras/"
      ],
      "metadata": {
        "id": "8NxbcS77S7Sb"
      },
      "execution_count": 34,
      "outputs": []
    },
    {
      "cell_type": "code",
      "source": [
        "!ls\n"
      ],
      "metadata": {
        "colab": {
          "base_uri": "https://localhost:8080/"
        },
        "id": "Epxe3edNTA35",
        "outputId": "ba499e0c-3515-4633-c3bb-4e40e2672290"
      },
      "execution_count": 35,
      "outputs": [
        {
          "output_type": "stream",
          "name": "stdout",
          "text": [
            "anscombe.json\t\t      mnist_test.csv\n",
            "california_housing_test.csv   mnist_train_small.csv\n",
            "california_housing_train.csv  README.md\n"
          ]
        }
      ]
    },
    {
      "cell_type": "code",
      "source": [
        "!pwd"
      ],
      "metadata": {
        "colab": {
          "base_uri": "https://localhost:8080/"
        },
        "id": "CUdtAE_tTC91",
        "outputId": "32fefad4-919f-40ab-d491-eba282b03149"
      },
      "execution_count": 36,
      "outputs": [
        {
          "output_type": "stream",
          "name": "stdout",
          "text": [
            "/content/sample_data\n"
          ]
        }
      ]
    },
    {
      "cell_type": "code",
      "source": [
        "cd ..\n"
      ],
      "metadata": {
        "colab": {
          "base_uri": "https://localhost:8080/"
        },
        "id": "yK0Z7hFiU9Jx",
        "outputId": "78769a11-4744-4153-c3e6-dbfe3243bdda"
      },
      "execution_count": 37,
      "outputs": [
        {
          "output_type": "stream",
          "name": "stdout",
          "text": [
            "/content\n"
          ]
        }
      ]
    },
    {
      "cell_type": "code",
      "source": [
        "!ls\n"
      ],
      "metadata": {
        "colab": {
          "base_uri": "https://localhost:8080/"
        },
        "id": "zBhgaX_sU-lu",
        "outputId": "afe84b7b-38be-4121-8b8d-9caea516825c"
      },
      "execution_count": 38,
      "outputs": [
        {
          "output_type": "stream",
          "name": "stdout",
          "text": [
            "own_data_cnn_implementation_keras  sample_data\n"
          ]
        }
      ]
    },
    {
      "cell_type": "code",
      "source": [
        "!rm -rf own_data_cnn_implementation_keras/"
      ],
      "metadata": {
        "id": "P6RNR84pU_-9"
      },
      "execution_count": 39,
      "outputs": []
    },
    {
      "cell_type": "code",
      "source": [],
      "metadata": {
        "id": "Z-w4rqlLVEwl"
      },
      "execution_count": null,
      "outputs": []
    }
  ]
}